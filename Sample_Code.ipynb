{
  "nbformat": 4,
  "nbformat_minor": 0,
  "metadata": {
    "colab": {
      "provenance": []
    },
    "kernelspec": {
      "name": "python3",
      "display_name": "Python 3"
    },
    "language_info": {
      "name": "python"
    }
  },
  "cells": [
    {
      "cell_type": "markdown",
      "source": [
        "**You just need to edit this Code according to the site you want to Scrap**"
      ],
      "metadata": {
        "id": "dd6w53DQXQJ6"
      }
    },
    {
      "cell_type": "code",
      "execution_count": null,
      "metadata": {
        "id": "Eh5VjUD_Tp0h"
      },
      "outputs": [],
      "source": [
        "import scrapy\n",
        "\n",
        "  class ArticleSpider(scrapy.Spider):\n",
        "  name = 'article'\n",
        "  start_urls = ['https://www.example.com/articles']\n",
        "\n",
        "  def parse(self, response):\n",
        "\n",
        "for article in response.css('article'):\n",
        "\n",
        " yield {\n",
        "\n",
        "  'title':article.css('.article-title::text').extract_first(),\n",
        "  'author':article.css('.article-author::text').extract_first(),\n",
        "  'date':article.css('.article-date::text').extract_first(),\n",
        "  'body':article.css('.article-body::text').extract_first(),\n",
        "\n",
        "}"
      ]
    }
  ]
}